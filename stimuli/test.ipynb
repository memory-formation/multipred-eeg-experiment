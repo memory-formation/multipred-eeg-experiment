{
 "cells": [
  {
   "cell_type": "code",
   "execution_count": 12,
   "metadata": {},
   "outputs": [
    {
     "name": "stdout",
     "output_type": "stream",
     "text": [
      "{'visual_lead': 'neutralV', 'visual_target': 'CW', 'visual_condition': 'neutral', 'auditory_lead': '1600Hz', 'auditory_target': '160Hz', 'auditory_condition': 'EXP'}\n",
      "{'visual_lead': 'horizontal', 'visual_target': 'CCW', 'visual_condition': 'UEX', 'auditory_lead': '1600Hz', 'auditory_target': '160Hz', 'auditory_condition': 'EXP'}\n",
      "{'visual_lead': 'neutralV', 'visual_target': 'CCW', 'visual_condition': 'neutral', 'auditory_lead': '1600Hz', 'auditory_target': '160Hz', 'auditory_condition': 'EXP'}\n",
      "{'visual_lead': 'vertical', 'visual_target': 'CCW', 'visual_condition': 'EXP', 'auditory_lead': '1000Hz', 'auditory_target': '160Hz', 'auditory_condition': 'UEX'}\n",
      "{'visual_lead': 'horizontal', 'visual_target': 'CW', 'visual_condition': 'EXP', 'auditory_lead': '1000Hz', 'auditory_target': '100Hz', 'auditory_condition': 'EXP'}\n",
      "{'visual_lead': 'vertical', 'visual_target': 'CW', 'visual_condition': 'UEX', 'auditory_lead': '1000Hz', 'auditory_target': '100Hz', 'auditory_condition': 'EXP'}\n",
      "{'visual_lead': 'vertical', 'visual_target': 'CCW', 'visual_condition': 'EXP', 'auditory_lead': '1000Hz', 'auditory_target': '100Hz', 'auditory_condition': 'EXP'}\n",
      "{'visual_lead': 'neutralV', 'visual_target': 'CW', 'visual_condition': 'neutral', 'auditory_lead': '1600Hz', 'auditory_target': '160Hz', 'auditory_condition': 'EXP'}\n",
      "{'visual_lead': 'vertical', 'visual_target': 'CCW', 'visual_condition': 'EXP', 'auditory_lead': '1600Hz', 'auditory_target': '160Hz', 'auditory_condition': 'EXP'}\n",
      "{'visual_lead': 'horizontal', 'visual_target': 'CCW', 'visual_condition': 'UEX', 'auditory_lead': '1600Hz', 'auditory_target': '160Hz', 'auditory_condition': 'EXP'}\n",
      "{'visual_lead': 'neutralV', 'visual_target': 'CW', 'visual_condition': 'neutral', 'auditory_lead': '1600Hz', 'auditory_target': '100Hz', 'auditory_condition': 'UEX'}\n",
      "{'visual_lead': 'vertical', 'visual_target': 'CCW', 'visual_condition': 'EXP', 'auditory_lead': '1000Hz', 'auditory_target': '160Hz', 'auditory_condition': 'UEX'}\n",
      "{'visual_lead': 'horizontal', 'visual_target': 'CW', 'visual_condition': 'EXP', 'auditory_lead': '1600Hz', 'auditory_target': '160Hz', 'auditory_condition': 'EXP'}\n",
      "{'visual_lead': 'neutralV', 'visual_target': 'CCW', 'visual_condition': 'neutral', 'auditory_lead': '1600Hz', 'auditory_target': '160Hz', 'auditory_condition': 'EXP'}\n",
      "{'visual_lead': 'horizontal', 'visual_target': 'CW', 'visual_condition': 'EXP', 'auditory_lead': '1600Hz', 'auditory_target': '160Hz', 'auditory_condition': 'EXP'}\n",
      "{'visual_lead': 'neutralV', 'visual_target': 'CCW', 'visual_condition': 'neutral', 'auditory_lead': '1600Hz', 'auditory_target': '160Hz', 'auditory_condition': 'EXP'}\n",
      "{'visual_lead': 'horizontal', 'visual_target': 'CW', 'visual_condition': 'EXP', 'auditory_lead': '1600Hz', 'auditory_target': '160Hz', 'auditory_condition': 'EXP'}\n",
      "{'visual_lead': 'horizontal', 'visual_target': 'CW', 'visual_condition': 'EXP', 'auditory_lead': '1000Hz', 'auditory_target': '160Hz', 'auditory_condition': 'UEX'}\n",
      "{'visual_lead': 'neutralV', 'visual_target': 'CW', 'visual_condition': 'neutral', 'auditory_lead': '1000Hz', 'auditory_target': '100Hz', 'auditory_condition': 'EXP'}\n",
      "{'visual_lead': 'vertical', 'visual_target': 'CW', 'visual_condition': 'UEX', 'auditory_lead': '1600Hz', 'auditory_target': '160Hz', 'auditory_condition': 'EXP'}\n"
     ]
    }
   ],
   "source": [
    "import random\n",
    "\n",
    "def generate_trials(seed=None):\n",
    "    \"\"\"\n",
    "    Generates a list of trials for a multisensory experiment with non-uniform transitional probabilities.\n",
    "    \n",
    "    In the visual modality, there are two predictive stimuli (vertical, horizontal) and one neutral stimulus (neutralV).\n",
    "    The probabilities are as follows (with weights shown in parentheses):\n",
    "    \n",
    "      - Under one mapping (Condition A):\n",
    "          * Horizontal: predicted outcome is 'CW' (weight 3) and UEXicted outcome is 'CCW' (weight 1)\n",
    "          * Vertical:   predicted outcome is 'CCW' (weight 3) and UEXicted outcome is 'CW' (weight 1)\n",
    "      - Under the alternate mapping (Condition B):\n",
    "          * Horizontal: predicted outcome is 'CCW' (weight 3) and UEXicted outcome is 'CW' (weight 1)\n",
    "          * Vertical:   predicted outcome is 'CW' (weight 3) and UEXicted outcome is 'CCW' (weight 1)\n",
    "    \n",
    "    The neutral condition is always balanced:\n",
    "      - neutralV -> 'CW' (weight 1) and neutralV -> 'CCW' (weight 1).\n",
    "    \n",
    "    The auditory modality is structured analogously:\n",
    "    \n",
    "      - Two predictive tones (1000Hz, 1600Hz) and one neutral tone (neutralA).\n",
    "      - Under Condition A (Auditory):\n",
    "          * 1000Hz: predicted outcome is '100Hz' (weight 3) and UEXicted outcome is '160Hz' (weight 1)\n",
    "          * 1600Hz: predicted outcome is '160Hz' (weight 3) and UEXicted outcome is '100Hz' (weight 1)\n",
    "      - Under Condition B (Auditory):\n",
    "          * 1000Hz: predicted outcome is '160Hz' (weight 3) and UEXicted outcome is '100Hz' (weight 1)\n",
    "          * 1600Hz: predicted outcome is '100Hz' (weight 3) and UEXicted outcome is '160Hz' (weight 1)\n",
    "      - The neutral condition is balanced:\n",
    "          * neutralA -> '100Hz' (weight 1) and neutralA -> '160Hz' (weight 1)\n",
    "    \n",
    "    Trials are generated by taking the full cross–product of visual and auditory pairs.\n",
    "    Each unique visual–auditory combination is repeated a number of times equal to the product\n",
    "    of the visual weight and the auditory weight. Thus, the total number of trials is:\n",
    "    \n",
    "         Total visual weight (10) × Total auditory weight (10) = 100 trials.\n",
    "    \n",
    "    Parameters:\n",
    "      seed (int, optional): Seed for the random number generator.\n",
    "    \n",
    "    Returns:\n",
    "      List[dict]: A list of trial dictionaries. Each dictionary contains:\n",
    "         - 'visual_lead', 'visual_target', 'visual_condition'\n",
    "         - 'auditory_lead', 'auditory_target', 'auditory_condition'\n",
    "    \"\"\"\n",
    "    if seed is not None:\n",
    "        random.seed(seed)\n",
    "    \n",
    "    # Randomize visual mapping: choose between two conditions.\n",
    "    if random.choice([True, False]):\n",
    "        # Condition A: horizontal->CW high, vertical->CCW high.\n",
    "        visual_pairs = [\n",
    "            # Vertical stimulus: high probability for CCW, low for CW.\n",
    "            ('vertical', 'CCW', 'EXP', 3),\n",
    "            ('vertical', 'CW',  'UEX', 1),\n",
    "            # Horizontal stimulus: high probability for CW, low for CCW.\n",
    "            ('horizontal', 'CW', 'EXP', 3),\n",
    "            ('horizontal', 'CCW', 'UEX', 1),\n",
    "        ]\n",
    "    else:\n",
    "        # Condition B: horizontal->CCW high, vertical->CW high.\n",
    "        visual_pairs = [\n",
    "            # Vertical stimulus: high probability for CW, low for CCW.\n",
    "            ('vertical', 'CW', 'EXP', 3),\n",
    "            ('vertical', 'CCW', 'UEX', 1),\n",
    "            # Horizontal stimulus: high probability for CCW, low for CW.\n",
    "            ('horizontal', 'CCW', 'EXP', 3),\n",
    "            ('horizontal', 'CW', 'UEX', 1),\n",
    "        ]\n",
    "    # Add balanced neutral visual pairs.\n",
    "    visual_pairs.append(('neutralV', 'CW', 'neutral', 2))\n",
    "    visual_pairs.append(('neutralV', 'CCW', 'neutral', 2))\n",
    "    \n",
    "    # Randomize auditory mapping: choose between two conditions.\n",
    "    if random.choice([True, False]):\n",
    "        # Condition A: 1000Hz->100Hz high, 1600Hz->160Hz high.\n",
    "        auditory_pairs = [\n",
    "            ('1000Hz', '100Hz', 'EXP', 3),\n",
    "            ('1000Hz', '160Hz', 'UEX', 1),\n",
    "            ('1600Hz', '160Hz', 'EXP', 3),\n",
    "            ('1600Hz', '100Hz', 'UEX', 1),\n",
    "        ]\n",
    "    else:\n",
    "        # Condition B: 1000Hz->160Hz high, 1600Hz->100Hz high.\n",
    "        auditory_pairs = [\n",
    "            ('1000Hz', '160Hz', 'EXP', 3),\n",
    "            ('1000Hz', '100Hz', 'UEX', 1),\n",
    "            ('1600Hz', '100Hz', 'EXP', 3),\n",
    "            ('1600Hz', '160Hz', 'UEX', 1),\n",
    "        ]\n",
    "    # Add balanced neutral auditory pairs.\n",
    "    auditory_pairs.append(('neutralA', '100Hz', 'neutral', 0))\n",
    "    auditory_pairs.append(('neutralA', '160Hz', 'neutral', 0))\n",
    "    \n",
    "    # Build the cross–product.\n",
    "    trials = []\n",
    "    for v_lead, v_target, v_cond, v_weight in visual_pairs:\n",
    "        for a_lead, a_target, a_cond, a_weight in auditory_pairs:\n",
    "            count = v_weight * a_weight  # number of repetitions for this combination\n",
    "            for _ in range(count):\n",
    "                trial = {\n",
    "                    'visual_lead': v_lead,\n",
    "                    'visual_target': v_target,\n",
    "                    'visual_condition': v_cond,\n",
    "                    'auditory_lead': a_lead,\n",
    "                    'auditory_target': a_target,\n",
    "                    'auditory_condition': a_cond\n",
    "                }\n",
    "                trials.append(trial)\n",
    "    \n",
    "    # Shuffle the trial order to randomize sequence.\n",
    "    random.shuffle(trials)\n",
    "    return trials\n",
    "\n",
    "# Example usage:\n",
    "if __name__ == \"__main__\":\n",
    "    trial_list = generate_trials(seed=42)\n",
    "    # Print the first 5 trials for inspection.\n",
    "    for trial in trial_list[:20]:\n",
    "        print(trial)\n"
   ]
  },
  {
   "cell_type": "code",
   "execution_count": 17,
   "metadata": {},
   "outputs": [],
   "source": [
    "# read jason in data/sub-02/sub-02_info.json\n",
    "import json\n",
    "with open(\"data/sub-02/sub-02_info.json\", \"r\") as f:\n",
    "            participant_data = json.load(f)"
   ]
  },
  {
   "cell_type": "code",
   "execution_count": 31,
   "metadata": {},
   "outputs": [],
   "source": [
    "import pandas as pd\n",
    "df = pd.DataFrame(participant_data[\"conditions_test_1\"])"
   ]
  },
  {
   "cell_type": "code",
   "execution_count": 32,
   "metadata": {},
   "outputs": [
    {
     "data": {
      "text/plain": [
       "v_leading  v_trailing  v_pred \n",
       "0          45          EXP        24\n",
       "           135         UEX         8\n",
       "90         45          UEX         8\n",
       "           135         EXP        24\n",
       "neutralV   45          neutral    16\n",
       "           135         neutral    16\n",
       "Name: count, dtype: int64"
      ]
     },
     "execution_count": 32,
     "metadata": {},
     "output_type": "execute_result"
    }
   ],
   "source": [
    "df.groupby([\"v_leading\", \"v_trailing\"])[\"v_pred\"].value_counts()"
   ]
  },
  {
   "cell_type": "code",
   "execution_count": 33,
   "metadata": {},
   "outputs": [
    {
     "data": {
      "text/plain": [
       "a_pred  v_pred \n",
       "EXP     EXP        36\n",
       "        neutral    24\n",
       "        UEX        12\n",
       "UEX     EXP        12\n",
       "        neutral     8\n",
       "        UEX         4\n",
       "Name: count, dtype: int64"
      ]
     },
     "execution_count": 33,
     "metadata": {},
     "output_type": "execute_result"
    }
   ],
   "source": [
    "df.groupby([\"a_pred\"])[\"v_pred\"].value_counts()"
   ]
  },
  {
   "cell_type": "code",
   "execution_count": 14,
   "metadata": {},
   "outputs": [
    {
     "data": {
      "text/plain": [
       "auditory_lead  auditory_target\n",
       "1000Hz         100Hz              36\n",
       "               160Hz              12\n",
       "1600Hz         160Hz              36\n",
       "               100Hz              12\n",
       "Name: count, dtype: int64"
      ]
     },
     "execution_count": 14,
     "metadata": {},
     "output_type": "execute_result"
    }
   ],
   "source": [
    "df.groupby([\"auditory_lead\"])[\"auditory_target\"].value_counts()"
   ]
  },
  {
   "cell_type": "code",
   "execution_count": 30,
   "metadata": {},
   "outputs": [
    {
     "data": {
      "text/plain": [
       "visual_lead  visual_target  auditory_lead  auditory_target\n",
       "horizontal   CCW            1000Hz         100Hz              3\n",
       "                                           160Hz              1\n",
       "                            1600Hz         100Hz              1\n",
       "                                           160Hz              3\n",
       "                            neutralA       100Hz              2\n",
       "                                           160Hz              2\n",
       "             CW             1000Hz         100Hz              9\n",
       "                                           160Hz              3\n",
       "                            1600Hz         100Hz              3\n",
       "                                           160Hz              9\n",
       "                            neutralA       100Hz              6\n",
       "                                           160Hz              6\n",
       "neutralV     CCW            1000Hz         100Hz              6\n",
       "                                           160Hz              2\n",
       "                            1600Hz         100Hz              2\n",
       "                                           160Hz              6\n",
       "                            neutralA       100Hz              4\n",
       "                                           160Hz              4\n",
       "             CW             1000Hz         100Hz              6\n",
       "                                           160Hz              2\n",
       "                            1600Hz         100Hz              2\n",
       "                                           160Hz              6\n",
       "                            neutralA       100Hz              4\n",
       "                                           160Hz              4\n",
       "vertical     CCW            1000Hz         100Hz              9\n",
       "                                           160Hz              3\n",
       "                            1600Hz         100Hz              3\n",
       "                                           160Hz              9\n",
       "                            neutralA       100Hz              6\n",
       "                                           160Hz              6\n",
       "             CW             1000Hz         100Hz              3\n",
       "                                           160Hz              1\n",
       "                            1600Hz         100Hz              1\n",
       "                                           160Hz              3\n",
       "                            neutralA       100Hz              2\n",
       "                                           160Hz              2\n",
       "dtype: int64"
      ]
     },
     "execution_count": 30,
     "metadata": {},
     "output_type": "execute_result"
    }
   ],
   "source": [
    "df.groupby(['visual_lead', 'visual_target', 'auditory_lead', 'auditory_target']).size()"
   ]
  }
 ],
 "metadata": {
  "kernelspec": {
   "display_name": ".venv",
   "language": "python",
   "name": "python3"
  },
  "language_info": {
   "codemirror_mode": {
    "name": "ipython",
    "version": 3
   },
   "file_extension": ".py",
   "mimetype": "text/x-python",
   "name": "python",
   "nbconvert_exporter": "python",
   "pygments_lexer": "ipython3",
   "version": "3.11.5"
  }
 },
 "nbformat": 4,
 "nbformat_minor": 2
}
