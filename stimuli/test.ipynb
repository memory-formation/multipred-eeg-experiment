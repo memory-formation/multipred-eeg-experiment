{
 "cells": [
  {
   "cell_type": "code",
   "execution_count": 1,
   "metadata": {},
   "outputs": [],
   "source": [
    "import json\n",
    "import os\n",
    "import pandas as pd\n"
   ]
  },
  {
   "cell_type": "code",
   "execution_count": 2,
   "metadata": {},
   "outputs": [
    {
     "data": {
      "text/plain": [
       "[0, 45, 90, 135, 0, 45, 90, 135]"
      ]
     },
     "execution_count": 2,
     "metadata": {},
     "output_type": "execute_result"
    }
   ],
   "source": [
    "[0, 45, 90, 135] * 2"
   ]
  },
  {
   "cell_type": "code",
   "execution_count": 30,
   "metadata": {},
   "outputs": [],
   "source": [
    "def load_test_data(participant_id, blocks):\n",
    "    all_trials = []\n",
    "\n",
    "    for block in blocks:\n",
    "        filepath = f\"data/{participant_id}/test_block{block}.json\"\n",
    "        if os.path.exists(filepath):\n",
    "            with open(filepath, \"r\") as f:\n",
    "                block_data = json.load(f)\n",
    "            for trial in block_data:\n",
    "                trial[\"block\"] = block  # add block number to each trial\n",
    "            all_trials.extend(block_data)\n",
    "        else:\n",
    "            print(f\"File not found: {filepath}\")\n",
    "\n",
    "    return all_trials\n",
    "\n",
    "# Load and convert to DataFrame\n",
    "participant_id = \"sub-03\"  # change as needed\n",
    "blocks = [1, 2]\n",
    "all_trials = load_test_data(participant_id, blocks)\n",
    "df = pd.DataFrame(all_trials)"
   ]
  },
  {
   "cell_type": "code",
   "execution_count": 36,
   "metadata": {},
   "outputs": [
    {
     "data": {
      "image/png": "[encoded data removed]",
      "text/plain": [
       "<Figure size 640x480 with 1 Axes>"
      ]
     },
     "metadata": {},
     "output_type": "display_data"
    }
   ],
   "source": [
    "# Show staircase-related columns\n",
    "staircase_cols = [\"ori_diff\", \"last_direction\", \"inversions_count\", \"history\", \"step_size\", \"target\", \"outcome\"]\n",
    "df[staircase_cols].head(30) # adjust rows as needed\n",
    "\n",
    "# Plot ori_diff over trials\n",
    "import matplotlib.pyplot as plt\n",
    "\n",
    "plt.plot(df[\"ori_diff\"])\n",
    "plt.xlabel(\"Trial\")\n",
    "plt.ylabel(\"Orientation Difference\")\n",
    "plt.title(\"Staircase Adaptation over Trials\")\n",
    "plt.show()"
   ]
  },
  {
   "cell_type": "code",
   "execution_count": 40,
   "metadata": {},
   "outputs": [
    {
     "name": "stdout",
     "output_type": "stream",
     "text": [
      "    ori_diff last_direction  inversions_count  history  step_size  target  \\\n",
      "0         26             up                 1        0          6       1   \n",
      "1         26             up                 1        1          6       1   \n",
      "2         26             up                 1        2          6       1   \n",
      "4         20           down                 2        0          6       1   \n",
      "5         20           down                 2        1          4       1   \n",
      "6         20           down                 2        2          4       1   \n",
      "8         16           down                 2        0          4       1   \n",
      "11        20             up                 3        0          4       1   \n",
      "14        20             up                 3        1          4       1   \n",
      "16        20             up                 3        2          4       1   \n",
      "21        16           down                 4        0          4       1   \n",
      "22        16           down                 4        1          2       1   \n",
      "23        16           down                 4        2          2       1   \n",
      "26        14           down                 4        0          2       1   \n",
      "27        14           down                 4        1          2       1   \n",
      "28        16             up                 5        0          2       1   \n",
      "29        18             up                 5        0          2       1   \n",
      "33        18             up                 5        1          2       1   \n",
      "37        18             up                 5        2          2       1   \n",
      "38        16           down                 6        0          2       1   \n",
      "39        16           down                 6        1          2       1   \n",
      "\n",
      "    outcome  \n",
      "0         0  \n",
      "1         1  \n",
      "2         1  \n",
      "4         1  \n",
      "5         1  \n",
      "6         1  \n",
      "8         1  \n",
      "11        0  \n",
      "14        1  \n",
      "16        1  \n",
      "21        1  \n",
      "22        1  \n",
      "23        1  \n",
      "26        1  \n",
      "27        1  \n",
      "28        0  \n",
      "29        0  \n",
      "33        1  \n",
      "37        1  \n",
      "38        1  \n",
      "39        1  \n"
     ]
    }
   ],
   "source": [
    "print(df[df[\"target\"]==1][staircase_cols].head(30)) # adjust rows as needed"
   ]
  },
  {
   "cell_type": "code",
   "execution_count": 18,
   "metadata": {},
   "outputs": [],
   "source": [
    "participant_info_path = \"data/sub-02/sub-02_info.json\"\n",
    "with open(participant_info_path, \"r\") as f:\n",
    "            participant_data = json.load(f)\n",
    "staircase_data = load_last_staircase_data(participant_data, 2)"
   ]
  },
  {
   "cell_type": "code",
   "execution_count": 19,
   "metadata": {},
   "outputs": [
    {
     "data": {
      "text/plain": [
       "{'ori_diff': 26,\n",
       " 'inversions_count': 1,\n",
       " 'last_direction': 'up',\n",
       " 'history': 0,\n",
       " 'step_size': 6}"
      ]
     },
     "execution_count": 19,
     "metadata": {},
     "output_type": "execute_result"
    }
   ],
   "source": [
    "staircase_data"
   ]
  },
  {
   "cell_type": "code",
   "execution_count": 15,
   "metadata": {},
   "outputs": [
    {
     "data": {
      "text/plain": [
       "26"
      ]
     },
     "execution_count": 15,
     "metadata": {},
     "output_type": "execute_result"
    }
   ],
   "source": [
    "last_trial[\"ori_diff\"]"
   ]
  },
  {
   "cell_type": "code",
   "execution_count": 13,
   "metadata": {},
   "outputs": [
    {
     "data": {
      "text/plain": [
       "dict_keys(['ori_diff', 'inversions_count', 'last_direction', 'step_size', 'step_update'])"
      ]
     },
     "execution_count": 13,
     "metadata": {},
     "output_type": "execute_result"
    }
   ],
   "source": [
    "STAIRCASE_PARAMS.keys()"
   ]
  },
  {
   "cell_type": "code",
   "execution_count": 19,
   "metadata": {},
   "outputs": [],
   "source": [
    "ori_diff, inversions_count, last_direction, step_size, step_update = STAIRCASE_PARAMS.values()"
   ]
  },
  {
   "cell_type": "code",
   "execution_count": 5,
   "metadata": {},
   "outputs": [
    {
     "data": {
      "text/plain": [
       "0"
      ]
     },
     "execution_count": 5,
     "metadata": {},
     "output_type": "execute_result"
    }
   ],
   "source": [
    "inversions_count"
   ]
  },
  {
   "cell_type": "code",
   "execution_count": 3,
   "metadata": {},
   "outputs": [],
   "source": [
    "ori_diff, inversions_count, last_direction, _, _ = STAIRCASE_PARAMS.values()"
   ]
  },
  {
   "cell_type": "code",
   "execution_count": 36,
   "metadata": {},
   "outputs": [
    {
     "data": {
      "text/plain": [
       "v_leading  v_pred  response    outcome\n",
       "0          EXP     frequent    1          1\n",
       "                   infrequent  0          2\n",
       "           UEX     frequent    0          2\n",
       "                   infrequent  1          1\n",
       "90         EXP     frequent    1          1\n",
       "                   infrequent  0          2\n",
       "           UEX     frequent    0          2\n",
       "                   infrequent  1          1\n",
       "Name: count, dtype: int64"
      ]
     },
     "execution_count": 36,
     "metadata": {},
     "output_type": "execute_result"
    }
   ],
   "source": [
    "df.groupby([\"v_leading\", \"v_pred\", \"response\"])[\"outcome\"].value_counts()"
   ]
  },
  {
   "cell_type": "code",
   "execution_count": 37,
   "metadata": {},
   "outputs": [
    {
     "ename": "FileNotFoundError",
     "evalue": "[Errno 2] No such file or directory: 'data/sub-04/sub-04_info.json'",
     "output_type": "error",
     "traceback": [
      "\u001b[31m---------------------------------------------------------------------------\u001b[39m",
      "\u001b[31mFileNotFoundError\u001b[39m                         Traceback (most recent call last)",
      "\u001b[36mCell\u001b[39m\u001b[36m \u001b[39m\u001b[32mIn[37]\u001b[39m\u001b[32m, line 1\u001b[39m\n\u001b[32m----> \u001b[39m\u001b[32m1\u001b[39m \u001b[38;5;28;01mwith\u001b[39;00m \u001b[38;5;28;43mopen\u001b[39;49m\u001b[43m(\u001b[49m\u001b[33;43m'\u001b[39;49m\u001b[33;43mdata/sub-04/sub-04_info.json\u001b[39;49m\u001b[33;43m'\u001b[39;49m\u001b[43m)\u001b[49m \u001b[38;5;28;01mas\u001b[39;00m f:\n\u001b[32m      2\u001b[39m     data = json.load(f)\n\u001b[32m      4\u001b[39m \u001b[38;5;66;03m#df_info = pd.DataFrame(data)\u001b[39;00m\n",
      "\u001b[36mFile \u001b[39m\u001b[32m/media/wiseman/tocho/multipred-eeg-experiment/.venv/lib/python3.11/site-packages/IPython/core/interactiveshell.py:325\u001b[39m, in \u001b[36m_modified_open\u001b[39m\u001b[34m(file, *args, **kwargs)\u001b[39m\n\u001b[32m    318\u001b[39m \u001b[38;5;28;01mif\u001b[39;00m file \u001b[38;5;129;01min\u001b[39;00m {\u001b[32m0\u001b[39m, \u001b[32m1\u001b[39m, \u001b[32m2\u001b[39m}:\n\u001b[32m    319\u001b[39m     \u001b[38;5;28;01mraise\u001b[39;00m \u001b[38;5;167;01mValueError\u001b[39;00m(\n\u001b[32m    320\u001b[39m         \u001b[33mf\u001b[39m\u001b[33m\"\u001b[39m\u001b[33mIPython won\u001b[39m\u001b[33m'\u001b[39m\u001b[33mt let you open fd=\u001b[39m\u001b[38;5;132;01m{\u001b[39;00mfile\u001b[38;5;132;01m}\u001b[39;00m\u001b[33m by default \u001b[39m\u001b[33m\"\u001b[39m\n\u001b[32m    321\u001b[39m         \u001b[33m\"\u001b[39m\u001b[33mas it is likely to crash IPython. If you know what you are doing, \u001b[39m\u001b[33m\"\u001b[39m\n\u001b[32m    322\u001b[39m         \u001b[33m\"\u001b[39m\u001b[33myou can use builtins\u001b[39m\u001b[33m'\u001b[39m\u001b[33m open.\u001b[39m\u001b[33m\"\u001b[39m\n\u001b[32m    323\u001b[39m     )\n\u001b[32m--> \u001b[39m\u001b[32m325\u001b[39m \u001b[38;5;28;01mreturn\u001b[39;00m \u001b[43mio_open\u001b[49m\u001b[43m(\u001b[49m\u001b[43mfile\u001b[49m\u001b[43m,\u001b[49m\u001b[43m \u001b[49m\u001b[43m*\u001b[49m\u001b[43margs\u001b[49m\u001b[43m,\u001b[49m\u001b[43m \u001b[49m\u001b[43m*\u001b[49m\u001b[43m*\u001b[49m\u001b[43mkwargs\u001b[49m\u001b[43m)\u001b[49m\n",
      "\u001b[31mFileNotFoundError\u001b[39m: [Errno 2] No such file or directory: 'data/sub-04/sub-04_info.json'"
     ]
    }
   ],
   "source": [
    "with open('data/sub-04/sub-04_info.json') as f:\n",
    "    data = json.load(f)\n",
    "\n",
    "#df_info = pd.DataFrame(data)"
   ]
  },
  {
   "cell_type": "code",
   "execution_count": 15,
   "metadata": {},
   "outputs": [],
   "source": [
    "df_learning = pd.DataFrame(data[\"conditions_learning_2\"])\n",
    "df_test = pd.DataFrame(data[\"conditions_test_3\"])"
   ]
  },
  {
   "cell_type": "code",
   "execution_count": 16,
   "metadata": {},
   "outputs": [
    {
     "data": {
      "text/plain": [
       "v_leading  v_trailing\n",
       "0          135           24\n",
       "           45             8\n",
       "90         45            24\n",
       "           135            8\n",
       "neutralV   45            16\n",
       "           135           16\n",
       "Name: count, dtype: int64"
      ]
     },
     "execution_count": 16,
     "metadata": {},
     "output_type": "execute_result"
    }
   ],
   "source": [
    "df_learning.groupby(\"v_leading\")[\"v_trailing\"].value_counts()"
   ]
  },
  {
   "cell_type": "code",
   "execution_count": 17,
   "metadata": {},
   "outputs": [
    {
     "data": {
      "text/plain": [
       "v_leading  v_trailing\n",
       "0          135           24\n",
       "           45             8\n",
       "90         45            24\n",
       "           135            8\n",
       "neutralV   45            16\n",
       "           135           16\n",
       "Name: count, dtype: int64"
      ]
     },
     "execution_count": 17,
     "metadata": {},
     "output_type": "execute_result"
    }
   ],
   "source": [
    "df_test.groupby(\"v_leading\")[\"v_trailing\"].value_counts()"
   ]
  },
  {
   "cell_type": "code",
   "execution_count": 3,
   "metadata": {},
   "outputs": [
    {
     "data": {
      "text/html": [
       "<div>\n",
       "<style scoped>\n",
       "    .dataframe tbody tr th:only-of-type {\n",
       "        vertical-align: middle;\n",
       "    }\n",
       "\n",
       "    .dataframe tbody tr th {\n",
       "        vertical-align: top;\n",
       "    }\n",
       "\n",
       "    .dataframe thead th {\n",
       "        text-align: right;\n",
       "    }\n",
       "</style>\n",
       "<table border=\"1\" class=\"dataframe\">\n",
       "  <thead>\n",
       "    <tr style=\"text-align: right;\">\n",
       "      <th></th>\n",
       "      <th>v_pred</th>\n",
       "      <th>target</th>\n",
       "      <th>response</th>\n",
       "      <th>outcome</th>\n",
       "      <th>visual_mapping</th>\n",
       "    </tr>\n",
       "  </thead>\n",
       "  <tbody>\n",
       "    <tr>\n",
       "      <th>0</th>\n",
       "      <td>EXP</td>\n",
       "      <td>0</td>\n",
       "      <td>normal</td>\n",
       "      <td>1</td>\n",
       "      <td>1</td>\n",
       "    </tr>\n",
       "    <tr>\n",
       "      <th>1</th>\n",
       "      <td>EXP</td>\n",
       "      <td>1</td>\n",
       "      <td>deviant</td>\n",
       "      <td>1</td>\n",
       "      <td>1</td>\n",
       "    </tr>\n",
       "    <tr>\n",
       "      <th>2</th>\n",
       "      <td>UEX</td>\n",
       "      <td>0</td>\n",
       "      <td>normal</td>\n",
       "      <td>1</td>\n",
       "      <td>1</td>\n",
       "    </tr>\n",
       "    <tr>\n",
       "      <th>3</th>\n",
       "      <td>neutral</td>\n",
       "      <td>0</td>\n",
       "      <td>normal</td>\n",
       "      <td>1</td>\n",
       "      <td>1</td>\n",
       "    </tr>\n",
       "    <tr>\n",
       "      <th>4</th>\n",
       "      <td>EXP</td>\n",
       "      <td>0</td>\n",
       "      <td>deviant</td>\n",
       "      <td>0</td>\n",
       "      <td>1</td>\n",
       "    </tr>\n",
       "    <tr>\n",
       "      <th>5</th>\n",
       "      <td>neutral</td>\n",
       "      <td>0</td>\n",
       "      <td>deviant</td>\n",
       "      <td>0</td>\n",
       "      <td>1</td>\n",
       "    </tr>\n",
       "    <tr>\n",
       "      <th>6</th>\n",
       "      <td>EXP</td>\n",
       "      <td>1</td>\n",
       "      <td>deviant</td>\n",
       "      <td>1</td>\n",
       "      <td>1</td>\n",
       "    </tr>\n",
       "    <tr>\n",
       "      <th>7</th>\n",
       "      <td>EXP</td>\n",
       "      <td>1</td>\n",
       "      <td>deviant</td>\n",
       "      <td>1</td>\n",
       "      <td>1</td>\n",
       "    </tr>\n",
       "    <tr>\n",
       "      <th>8</th>\n",
       "      <td>EXP</td>\n",
       "      <td>0</td>\n",
       "      <td>normal</td>\n",
       "      <td>1</td>\n",
       "      <td>1</td>\n",
       "    </tr>\n",
       "    <tr>\n",
       "      <th>9</th>\n",
       "      <td>neutral</td>\n",
       "      <td>1</td>\n",
       "      <td>deviant</td>\n",
       "      <td>1</td>\n",
       "      <td>1</td>\n",
       "    </tr>\n",
       "  </tbody>\n",
       "</table>\n",
       "</div>"
      ],
      "text/plain": [
       "    v_pred  target response  outcome  visual_mapping\n",
       "0      EXP       0   normal        1               1\n",
       "1      EXP       1  deviant        1               1\n",
       "2      UEX       0   normal        1               1\n",
       "3  neutral       0   normal        1               1\n",
       "4      EXP       0  deviant        0               1\n",
       "5  neutral       0  deviant        0               1\n",
       "6      EXP       1  deviant        1               1\n",
       "7      EXP       1  deviant        1               1\n",
       "8      EXP       0   normal        1               1\n",
       "9  neutral       1  deviant        1               1"
      ]
     },
     "execution_count": 3,
     "metadata": {},
     "output_type": "execute_result"
    }
   ],
   "source": [
    "df[[\"v_pred\",\"target\", \"response\", \"outcome\", \"visual_mapping\"]]"
   ]
  }
 ],
 "metadata": {
  "kernelspec": {
   "display_name": ".venv",
   "language": "python",
   "name": "python3"
  },
  "language_info": {
   "codemirror_mode": {
    "name": "ipython",
    "version": 3
   },
   "file_extension": ".py",
   "mimetype": "text/x-python",
   "name": "python",
   "nbconvert_exporter": "python",
   "pygments_lexer": "ipython3",
   "version": "3.11.5"
  }
 },
 "nbformat": 4,
 "nbformat_minor": 2
}
