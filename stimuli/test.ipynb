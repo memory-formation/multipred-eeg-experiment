{
 "cells": [
  {
   "cell_type": "code",
   "execution_count": 1,
   "metadata": {},
   "outputs": [],
   "source": [
    "import json\n",
    "import os\n",
    "import pandas as pd\n",
    "import numpy as np\n",
    "import random\n",
    "from itertools import product\n",
    "from experiment.presentation import generate_neutral_gabor\n",
    "from experiment.constants import SCREENS"
   ]
  },
  {
   "cell_type": "code",
   "execution_count": 3,
   "metadata": {},
   "outputs": [
    {
     "name": "stdout",
     "output_type": "stream",
     "text": [
      "Mean luminance - G0: 103.58433879315703 Neutral: 103.1573257446289\n"
     ]
    }
   ],
   "source": [
    "screen_info = SCREENS[\"hp_laptop\"]\n",
    "gabor = generate_neutral_gabor(screen_info)"
   ]
  },
  {
   "cell_type": "code",
   "execution_count": 5,
   "metadata": {},
   "outputs": [
    {
     "data": {
      "text/plain": [
       "(256, 256, 4)"
      ]
     },
     "execution_count": 5,
     "metadata": {},
     "output_type": "execute_result"
    }
   ],
   "source": [
    "gabor.shape"
   ]
  },
  {
   "cell_type": "code",
   "execution_count": 6,
   "metadata": {},
   "outputs": [
    {
     "data": {
      "text/plain": [
       "array([[[126, 126, 126,   0],\n",
       "        [126, 126, 126,   0],\n",
       "        [126, 126, 126,   0],\n",
       "        ...,\n",
       "        [126, 126, 126,   0],\n",
       "        [126, 126, 126,   0],\n",
       "        [126, 126, 126,   0]],\n",
       "\n",
       "       [[126, 126, 126,   0],\n",
       "        [126, 126, 126,   0],\n",
       "        [126, 126, 126,   0],\n",
       "        ...,\n",
       "        [126, 126, 126,   0],\n",
       "        [126, 126, 126,   0],\n",
       "        [126, 126, 126,   0]],\n",
       "\n",
       "       [[126, 126, 126,   0],\n",
       "        [126, 126, 126,   0],\n",
       "        [126, 126, 126,   0],\n",
       "        ...,\n",
       "        [126, 126, 126,   0],\n",
       "        [126, 126, 126,   0],\n",
       "        [126, 126, 126,   0]],\n",
       "\n",
       "       ...,\n",
       "\n",
       "       [[126, 126, 126,   0],\n",
       "        [126, 126, 126,   0],\n",
       "        [126, 126, 126,   0],\n",
       "        ...,\n",
       "        [126, 126, 126,   0],\n",
       "        [126, 126, 126,   0],\n",
       "        [126, 126, 126,   0]],\n",
       "\n",
       "       [[126, 126, 126,   0],\n",
       "        [126, 126, 126,   0],\n",
       "        [126, 126, 126,   0],\n",
       "        ...,\n",
       "        [126, 126, 126,   0],\n",
       "        [126, 126, 126,   0],\n",
       "        [126, 126, 126,   0]],\n",
       "\n",
       "       [[126, 126, 126,   0],\n",
       "        [126, 126, 126,   0],\n",
       "        [126, 126, 126,   0],\n",
       "        ...,\n",
       "        [126, 126, 126,   0],\n",
       "        [126, 126, 126,   0],\n",
       "        [126, 126, 126,   0]]], shape=(256, 256, 4), dtype=uint8)"
      ]
     },
     "execution_count": 6,
     "metadata": {},
     "output_type": "execute_result"
    }
   ],
   "source": [
    "gabor"
   ]
  }
 ],
 "metadata": {
  "kernelspec": {
   "display_name": ".venv",
   "language": "python",
   "name": "python3"
  },
  "language_info": {
   "codemirror_mode": {
    "name": "ipython",
    "version": 3
   },
   "file_extension": ".py",
   "mimetype": "text/x-python",
   "name": "python",
   "nbconvert_exporter": "python",
   "pygments_lexer": "ipython3",
   "version": "3.12.0"
  }
 },
 "nbformat": 4,
 "nbformat_minor": 2
}
